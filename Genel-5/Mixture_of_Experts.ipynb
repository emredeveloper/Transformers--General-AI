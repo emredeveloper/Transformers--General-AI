{
  "nbformat": 4,
  "nbformat_minor": 0,
  "metadata": {
    "colab": {
      "provenance": [],
      "authorship_tag": "ABX9TyNHvixUmBk+UdujKeVm4FmB",
      "include_colab_link": true
    },
    "kernelspec": {
      "name": "python3",
      "display_name": "Python 3"
    },
    "language_info": {
      "name": "python"
    }
  },
  "cells": [
    {
      "cell_type": "markdown",
      "metadata": {
        "id": "view-in-github",
        "colab_type": "text"
      },
      "source": [
        "<a href=\"https://colab.research.google.com/github/emredeveloper/Transformers--General-AI/blob/main/Mixture_of_Experts.ipynb\" target=\"_parent\"><img src=\"https://colab.research.google.com/assets/colab-badge.svg\" alt=\"Open In Colab\"/></a>"
      ]
    },
    {
      "cell_type": "code",
      "execution_count": 5,
      "metadata": {
        "colab": {
          "base_uri": "https://localhost:8080/"
        },
        "id": "Y4Cmr0MnCzgt",
        "outputId": "004036a3-bbff-439b-8dd7-71aa9b1258e3"
      },
      "outputs": [
        {
          "output_type": "stream",
          "name": "stdout",
          "text": [
            "Çıkış boyutu: torch.Size([5, 10, 128])\n"
          ]
        }
      ],
      "source": [
        "import torch\n",
        "import torch.nn as nn\n",
        "import torch.nn.functional as F\n",
        "\n",
        "class Expert(nn.Module):\n",
        "    \"\"\"Tek bir uzmanın basit ileri beslemeli ağı\"\"\"\n",
        "    def __init__(self, input_dim, hidden_dim):\n",
        "        super(Expert, self).__init__()\n",
        "        self.ffn = nn.Sequential(\n",
        "            nn.Linear(input_dim, hidden_dim),\n",
        "            nn.ReLU(),\n",
        "            nn.Linear(hidden_dim, input_dim)\n",
        "        )\n",
        "\n",
        "    def forward(self, x):\n",
        "        return self.ffn(x)\n",
        "\n",
        "class Router(nn.Module):\n",
        "    \"\"\"Yönlendirici: Hangi uzmanın etkinleştirileceğine karar verir.\"\"\"\n",
        "    def __init__(self, input_dim, num_experts):\n",
        "        super(Router, self).__init__()\n",
        "        self.gate = nn.Linear(input_dim, num_experts)\n",
        "\n",
        "    def forward(self, x):\n",
        "        # Uzmanlar için olasılık hesaplama\n",
        "        return F.softmax(self.gate(x), dim=-1)\n",
        "\n",
        "class MoELayer(nn.Module):\n",
        "    \"\"\"Mixture of Experts katmanı\"\"\"\n",
        "    def __init__(self, input_dim, hidden_dim, num_experts, top_k=2):\n",
        "        super(MoELayer, self).__init__()\n",
        "        self.num_experts = num_experts\n",
        "        self.top_k = top_k\n",
        "        self.experts = nn.ModuleList([Expert(input_dim, hidden_dim) for _ in range(num_experts)])\n",
        "        self.router = Router(input_dim, num_experts)\n",
        "\n",
        "    def forward(self, x):\n",
        "        batch_size, seq_len, _ = x.size()  # Boyutları ayıkla\n",
        "        x_flat = x.view(-1, x.size(-1))  # Batch ve seq_len birleştir\n",
        "\n",
        "        # Yönlendirici tarafından uzman seçimi\n",
        "        route_weights = self.router(x_flat)\n",
        "        topk_weights, topk_indices = torch.topk(route_weights, self.top_k, dim=-1)\n",
        "\n",
        "        # Uzmanların çıktılarının birleştirilmesi\n",
        "        outputs = torch.zeros_like(x_flat)\n",
        "        for i in range(self.top_k):\n",
        "            weight = topk_weights[:, i].unsqueeze(-1)\n",
        "            expert_idx = topk_indices[:, i]\n",
        "            outputs += weight * torch.cat(\n",
        "                [self.experts[expert](x_flat[j].unsqueeze(0)) for j, expert in enumerate(expert_idx)], dim=0\n",
        "            )\n",
        "\n",
        "        # Orijinal boyuta geri dön\n",
        "        outputs = outputs.view(batch_size, seq_len, -1)\n",
        "        return outputs\n",
        "\n",
        "class MoETransformer(nn.Module):\n",
        "    \"\"\"MoE içeren basit bir Transformer\"\"\"\n",
        "    def __init__(self, input_dim, hidden_dim, num_heads, num_experts, top_k):\n",
        "        super(MoETransformer, self).__init__()\n",
        "        self.attention = nn.MultiheadAttention(embed_dim=input_dim, num_heads=num_heads, batch_first=True)\n",
        "        self.moe_layer = MoELayer(input_dim, hidden_dim, num_experts, top_k)\n",
        "        self.norm1 = nn.LayerNorm(input_dim)\n",
        "        self.norm2 = nn.LayerNorm(input_dim)\n",
        "\n",
        "    def forward(self, x):\n",
        "        # Multi-head attention\n",
        "        attn_output, _ = self.attention(x, x, x)\n",
        "        x = self.norm1(x + attn_output)\n",
        "\n",
        "        # Mixture of Experts katmanı\n",
        "        moe_output = self.moe_layer(x)\n",
        "        x = self.norm2(x + moe_output)\n",
        "\n",
        "        return x\n",
        "\n",
        "# Örnek kullanım\n",
        "input_dim = 128\n",
        "hidden_dim = 256\n",
        "num_heads = 4\n",
        "num_experts = 3\n",
        "top_k = 2\n",
        "seq_len = 10\n",
        "batch_size = 5\n",
        "\n",
        "# Model oluşturma\n",
        "model = MoETransformer(input_dim, hidden_dim, num_heads, num_experts, top_k)\n",
        "\n",
        "# Rastgele giriş verisi\n",
        "x = torch.rand(batch_size, seq_len, input_dim)\n",
        "\n",
        "# Çıktı\n",
        "output = model(x)\n",
        "print(\"Çıkış boyutu:\", output.shape)"
      ]
    }
  ]
}