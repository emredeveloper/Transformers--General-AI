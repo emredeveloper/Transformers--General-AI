{
  "nbformat": 4,
  "nbformat_minor": 0,
  "metadata": {
    "colab": {
      "provenance": [],
      "authorship_tag": "ABX9TyMR0Xdi2l6f+Bd4d9tZW0gS",
      "include_colab_link": true
    },
    "kernelspec": {
      "name": "python3",
      "display_name": "Python 3"
    },
    "language_info": {
      "name": "python"
    }
  },
  "cells": [
    {
      "cell_type": "markdown",
      "metadata": {
        "id": "view-in-github",
        "colab_type": "text"
      },
      "source": [
        "<a href=\"https://colab.research.google.com/github/emredeveloper/Transformers--General-AI/blob/main/Projeksiyon_Katmanlar%C4%B1.ipynb\" target=\"_parent\"><img src=\"https://colab.research.google.com/assets/colab-badge.svg\" alt=\"Open In Colab\"/></a>"
      ]
    },
    {
      "cell_type": "code",
      "source": [
        "import torch\n",
        "import torch.nn as nn\n",
        "\n",
        "# Model parametreleri\n",
        "d_model = 64   # Modelin gizli boyutu\n",
        "d_ff = 256     # Besleme ileri (feed-forward) boyutu\n",
        "seq_len = 10   # Girdi sırasının uzunluğu\n",
        "batch_size = 8 # Batch boyutu"
      ],
      "metadata": {
        "id": "wpPyAbV0zfeE"
      },
      "execution_count": 2,
      "outputs": []
    },
    {
      "cell_type": "code",
      "source": [
        "# Girdi tensorü (örnek veriler)\n",
        "input_tensor = torch.rand(batch_size, seq_len, d_model)  # Rastgele veri"
      ],
      "metadata": {
        "id": "kDYRBKL6zgmz"
      },
      "execution_count": 3,
      "outputs": []
    },
    {
      "cell_type": "code",
      "source": [
        "# Projeksiyon Katmanları\n",
        "class ProjectionLayers(nn.Module):\n",
        "    def __init__(self, d_model, d_ff):\n",
        "        super().__init__()\n",
        "        # Query, Key, Value Projections\n",
        "        self.q_proj = nn.Linear(d_model, d_model)\n",
        "        self.k_proj = nn.Linear(d_model, d_model)\n",
        "        self.v_proj = nn.Linear(d_model, d_model)\n",
        "        self.o_proj = nn.Linear(d_model, d_model)\n",
        "\n",
        "        # Feed-forward Projections\n",
        "        self.gate_proj = nn.Linear(d_model, d_model)\n",
        "        self.up_proj = nn.Linear(d_model, d_ff)\n",
        "        self.down_proj = nn.Linear(d_ff, d_model)\n",
        "\n",
        "    def forward(self, x):\n",
        "        # Attention Projections\n",
        "        q = self.q_proj(x)  # Sorgu\n",
        "        k = self.k_proj(x)  # Anahtar\n",
        "        v = self.v_proj(x)  # Değer\n",
        "\n",
        "        # Dot-product attention için hazırlık\n",
        "        attention_scores = torch.matmul(q, k.transpose(-2, -1)) / (d_model ** 0.5)\n",
        "        attention_weights = torch.softmax(attention_scores, dim=-1)\n",
        "        attention_output = torch.matmul(attention_weights, v)\n",
        "\n",
        "        # Output Projeksiyon\n",
        "        output = self.o_proj(attention_output)\n",
        "\n",
        "        # Feed-forward katmanı\n",
        "        gated = torch.sigmoid(self.gate_proj(output)) * output  # Gated mekanizma\n",
        "        upsampled = self.up_proj(gated)  # Daha yüksek boyut\n",
        "        downsampled = self.down_proj(upsampled)  # Boyut küçültme\n",
        "        return downsampled"
      ],
      "metadata": {
        "id": "0wAkujy5zjME"
      },
      "execution_count": 4,
      "outputs": []
    },
    {
      "cell_type": "code",
      "execution_count": 5,
      "metadata": {
        "colab": {
          "base_uri": "https://localhost:8080/"
        },
        "id": "fBZsytFczPvM",
        "outputId": "7f0ddf0f-90e7-4f2e-f63b-a3f6d2007797"
      },
      "outputs": [
        {
          "output_type": "stream",
          "name": "stdout",
          "text": [
            "Girdi Boyutu:  torch.Size([8, 10, 64])\n",
            "Çıktı Boyutu:  torch.Size([8, 10, 64])\n"
          ]
        }
      ],
      "source": [
        "# Modeli tanımla ve çalıştır\n",
        "model = ProjectionLayers(d_model=d_model, d_ff=d_ff)\n",
        "output_tensor = model(input_tensor)\n",
        "\n",
        "print(\"Girdi Boyutu: \", input_tensor.shape)\n",
        "print(\"Çıktı Boyutu: \", output_tensor.shape)\n"
      ]
    }
  ]
}