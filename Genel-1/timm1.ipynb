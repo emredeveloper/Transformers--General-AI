{
 "cells": [
  {
   "cell_type": "code",
   "execution_count": 1,
   "metadata": {},
   "outputs": [
    {
     "name": "stderr",
     "output_type": "stream",
     "text": [
      "c:\\Users\\emreq\\Desktop\\Transformers\\.venv\\Lib\\site-packages\\tqdm\\auto.py:21: TqdmWarning: IProgress not found. Please update jupyter and ipywidgets. See https://ipywidgets.readthedocs.io/en/stable/user_install.html\n",
      "  from .autonotebook import tqdm as notebook_tqdm\n",
      "Device set to use cpu\n"
     ]
    },
    {
     "name": "stdout",
     "output_type": "stream",
     "text": [
      "Label: tabby, tabby cat     Score: 0.69\n",
      "Label: tiger cat            Score: 0.21\n",
      "Label: Egyptian cat         Score: 0.02\n",
      "Label: bee                  Score: 0.00\n",
      "Label: marmoset             Score: 0.00\n"
     ]
    }
   ],
   "source": [
    "from transformers import pipeline\n",
    "import requests\n",
    "\n",
    "# Load the image classification pipeline with a timm model\n",
    "image_classifier = pipeline(model=\"timm/mobilenetv4_conv_medium.e500_r256_in1k\")\n",
    "\n",
    "# URL of the image to classify\n",
    "url = \"https://huggingface.co/datasets/huggingface/documentation-images/resolve/main/timm/cat.jpg\"\n",
    "\n",
    "# Perform inference\n",
    "outputs = image_classifier(url)\n",
    "\n",
    "# Print the results\n",
    "for output in outputs:\n",
    "    print(f\"Label: {output['label'] :20} Score: {output['score'] :0.2f}\")\n"
   ]
  }
 ],
 "metadata": {
  "kernelspec": {
   "display_name": ".venv",
   "language": "python",
   "name": "python3"
  },
  "language_info": {
   "codemirror_mode": {
    "name": "ipython",
    "version": 3
   },
   "file_extension": ".py",
   "mimetype": "text/x-python",
   "name": "python",
   "nbconvert_exporter": "python",
   "pygments_lexer": "ipython3",
   "version": "3.11.9"
  }
 },
 "nbformat": 4,
 "nbformat_minor": 2
}
